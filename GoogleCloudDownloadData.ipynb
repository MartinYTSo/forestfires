{
 "cells": [
  {
   "cell_type": "markdown",
   "metadata": {},
   "source": [
    "### Fetching data from Cloud Storage"
   ]
  },
  {
   "cell_type": "markdown",
   "metadata": {},
   "source": [
    "### Simple retrieval of data from Google Cloud Storage"
   ]
  },
  {
   "cell_type": "code",
   "execution_count": 7,
   "metadata": {},
   "outputs": [
    {
     "name": "stdout",
     "output_type": "stream",
     "text": [
      "File downloaded successfully as testhousepricesLA.geojson\n"
     ]
    }
   ],
   "source": [
    "import requests\n",
    "\n",
    "def download_geojson(url, local_filename):\n",
    "    \"\"\"Downloads a GeoJSON file from a public Google Cloud Storage URL.\"\"\"\n",
    "    response = requests.get(url)\n",
    "    \n",
    "    if response.status_code == 200:\n",
    "        with open(local_filename, 'wb') as file:\n",
    "            file.write(response.content)\n",
    "        print(f\"File downloaded successfully as {local_filename}\")\n",
    "    else:\n",
    "        print(f\"Failed to download file. HTTP Status: {response.status_code}\")\n",
    "\n",
    "# Example usage\n",
    "url = \"https://storage.googleapis.com/team12data/housepricesLA.geojson\"\n",
    "download_geojson(url, \"testhousepricesLA.geojson\")"
   ]
  },
  {
   "cell_type": "markdown",
   "metadata": {},
   "source": []
  },
  {
   "cell_type": "code",
   "execution_count": 2,
   "metadata": {},
   "outputs": [],
   "source": [
    "from google.cloud import storage\n",
    "import time\n",
    "\n",
    "def set_client_endpoint(api_endpoint):\n",
    "    \"\"\"Initiates client with specified endpoint.\"\"\"\n",
    "    storage_client = storage.Client(project=\"cse6242team12project\",client_options={'api_endpoint': api_endpoint})\n",
    "    print(f\"Client initiated with endpoint: {storage_client._connection.API_BASE_URL}\")\n",
    "    return storage_client\n",
    "\n",
    "\n",
    "def download_file_with_custom_endpoint(api_endpoint, bucket_name, source_blob_name, destination_file_name):\n",
    "    \"\"\"Downloads a file using a custom API endpoint.\"\"\"\n",
    "    start_time = time.time()  # Start timer\n",
    "\n",
    "    client = set_client_endpoint(api_endpoint)  # Initiate client with custom endpoint\n",
    "    bucket = client.bucket(bucket_name)\n",
    "    blob = bucket.blob(source_blob_name)\n",
    "\n",
    "    blob.download_to_filename(destination_file_name)\n",
    "    print(f\"Downloaded {source_blob_name} to {destination_file_name}\")\n",
    "    end_time = time.time()  # End timer\n",
    "    elapsed_time = end_time - start_time\n",
    "\n",
    "    print(f\"Downloaded {source_blob_name} to {destination_file_name} in {elapsed_time:.2f} seconds\")\n",
    "\n",
    "\n",
    "def upload_file_with_custom_endpoint(api_endpoint, bucket_name, source_file_name, destination_blob_name):\n",
    "    \"\"\"Uploads a file using a custom API endpoint.\"\"\"\n",
    "    start_time = time.time()  # Start timer\n",
    "\n",
    "    client = set_client_endpoint(api_endpoint)  # Initiate client with custom endpoint\n",
    "    bucket = client.bucket(bucket_name)\n",
    "    blob = bucket.blob(destination_blob_name)\n",
    "\n",
    "    blob.upload_from_filename(source_file_name)  # Upload local file to the cloud\n",
    "\n",
    "    end_time = time.time()  # End timer\n",
    "    elapsed_time = end_time - start_time\n",
    "\n",
    "    print(f\"Uploaded {source_file_name} to {destination_blob_name} in {elapsed_time:.2f} seconds\")\n",
    "\n",
    "\n"
   ]
  },
  {
   "cell_type": "code",
   "execution_count": null,
   "metadata": {},
   "outputs": [
    {
     "name": "stdout",
     "output_type": "stream",
     "text": [
      "Client initiated with endpoint: https://storage.googleapis.com\n",
      "Uploaded listoficties.txt to listoficties.txt in 0.50 seconds\n"
     ]
    }
   ],
   "source": [
    "\n",
    "# Example usage\n",
    "# download_file_with_custom_endpoint(\n",
    "#     \"https://storage.googleapis.com\",  # Standard Google Cloud Storage endpoint\n",
    "#     \"team12data\", \n",
    "#     \"housepricesLA.geojson\", \n",
    "#     \"local_housepricesLA.geojson\"  # Local file you want to name it to\n",
    "# )\n",
    "\n",
    "upload_file_with_custom_endpoint(\n",
    "    \"https://storage.googleapis.com\",  # Standard Google Cloud Storage endpoint\n",
    "    \"team12data\",  # Your bucket name\n",
    "    \"listoficties.txt\",  # Local file you want to upload\n",
    "    \"listoficties.txt\"  # Destination file in the cloud (can be the same or different)\n",
    ")\n",
    "\n"
   ]
  }
 ],
 "metadata": {
  "kernelspec": {
   "display_name": ".venv",
   "language": "python",
   "name": "python3"
  },
  "language_info": {
   "codemirror_mode": {
    "name": "ipython",
    "version": 3
   },
   "file_extension": ".py",
   "mimetype": "text/x-python",
   "name": "python",
   "nbconvert_exporter": "python",
   "pygments_lexer": "ipython3",
   "version": "3.12.7"
  }
 },
 "nbformat": 4,
 "nbformat_minor": 2
}
