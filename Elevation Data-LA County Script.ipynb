{
 "cells": [
  {
   "cell_type": "code",
   "execution_count": null,
   "metadata": {},
   "outputs": [],
   "source": [
    "import geopandas as gpd\n",
    "import rasterio\n",
    "import numpy as np\n",
    "import pandas as pd\n",
    "import os\n",
    "\n",
    "# Define the correct file path for the downloaded GeoTIFF\n",
    "ELEVATION_RASTER_PATH = r\"C:/Users/ryanc/Downloads/output_USGS10m.tif\"\n",
    "\n",
    "# Verify if the file exists\n",
    "if not os.path.exists(ELEVATION_RASTER_PATH):\n",
    "    raise FileNotFoundError(f\"Error: The file {ELEVATION_RASTER_PATH} was not found. Check your downloads folder.\")\n",
    "\n",
    "# Open the GeoTIFF file\n",
    "with rasterio.open(ELEVATION_RASTER_PATH) as src:\n",
    "    elevation_data = src.read(1)  # Read the first band (elevation values)\n",
    "    transform = src.transform  # Get the affine transformation\n",
    "    bounds = src.bounds  # Get raster bounds\n",
    "\n",
    "# Convert raster indices to latitude and longitude\n",
    "rows, cols = elevation_data.shape\n",
    "x_coords = np.linspace(bounds.left, bounds.right, cols)\n",
    "y_coords = np.linspace(bounds.top, bounds.bottom, rows)\n",
    "lon, lat = np.meshgrid(x_coords, y_coords)\n",
    "\n",
    "# Flatten arrays to create a structured dataset\n",
    "elevation_points = np.column_stack((lat.ravel(), lon.ravel(), elevation_data.ravel()))\n",
    "elevation_points = elevation_points[~np.isnan(elevation_points[:, 2])]  # Remove NaNs\n",
    "\n",
    "# Convert to a DataFrame and save as CSV\n",
    "elevation_df = pd.DataFrame(elevation_points, columns=[\"Latitude\", \"Longitude\", \"Elevation\"])\n",
    "elevation_csv_path = \"C:/Users/ryanc/Downloads/la_county_elevation_data.csv\"\n",
    "elevation_df.to_csv(elevation_csv_path, index=False)\n",
    "\n",
    "print(f\"Raw elevation data saved as {elevation_csv_path}\")\n"
   ]
  }
 ],
 "metadata": {
  "kernelspec": {
   "display_name": "base",
   "language": "python",
   "name": "python3"
  },
  "language_info": {
   "codemirror_mode": {
    "name": "ipython",
    "version": 3
   },
   "file_extension": ".py",
   "mimetype": "text/x-python",
   "name": "python",
   "nbconvert_exporter": "python",
   "pygments_lexer": "ipython3",
   "version": "3.12.4"
  }
 },
 "nbformat": 4,
 "nbformat_minor": 2
}
